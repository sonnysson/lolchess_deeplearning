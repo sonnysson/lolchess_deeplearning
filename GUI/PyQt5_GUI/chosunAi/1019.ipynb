{
 "cells": [
  {
   "cell_type": "code",
   "execution_count": 10,
   "id": "cc8fb6ab-7706-4e64-b290-5103a740573a",
   "metadata": {},
   "outputs": [
    {
     "data": {
      "image/png": "[encoded data removed]",
      "text/plain": [
       "<Figure size 432x288 with 1 Axes>"
      ]
     },
     "metadata": {
      "needs_background": "light"
     },
     "output_type": "display_data"
    }
   ],
   "source": [
    "import numpy as np\n",
    "import math\n",
    "import matplotlib.pyplot as plt\n",
    "\n",
    "t=np.linspace(1,100,1000)\n",
    "\n",
    "x1=5*np.sin(t/(2*np.pi))\n",
    "x2=5*np.cos(t/(0.5*np.pi))+50\n",
    "x3=5*np.sin(t/(1*np.pi))+100\n",
    "\n",
    "# plt.plot(t,x1)\n",
    "# plt.plot(t,x2)\n",
    "# plt.plot(t,x3)\n",
    "\n",
    "start = 0\n",
    "gap = 50\n",
    "\n",
    "while True:\n",
    "    plt.scatter(np.mean(x1[start:start+gap]),np.var(x1[start:start+gap]),c=\"orange\")\n",
    "    plt.scatter(np.mean(x2[start:start+gap]),np.var(x2[start:start+gap]),c=\"blue\")\n",
    "    plt.scatter(np.mean(x3[start:start+gap]),np.var(x3[start:start+gap]),c=\"green\")\n",
    "    start += gap\n",
    "    \n",
    "    if start ==1000:\n",
    "        break\n",
    "        \n",
    "plt.show()"
   ]
  },
  {
   "cell_type": "code",
   "execution_count": 19,
   "id": "690173ac-217f-43f4-8b01-35ab41ab2889",
   "metadata": {},
   "outputs": [
    {
     "data": {
      "text/plain": [
       "[<matplotlib.lines.Line2D at 0x21db6c04100>]"
      ]
     },
     "execution_count": 19,
     "metadata": {},
     "output_type": "execute_result"
    },
    {
     "data": {
      "image/png": "[encoded data removed]",
      "text/plain": [
       "<Figure size 432x288 with 1 Axes>"
      ]
     },
     "metadata": {
      "needs_background": "light"
     },
     "output_type": "display_data"
    }
   ],
   "source": [
    "import numpy as np\n",
    "import matplotlib.pyplot as plt\n",
    "\n",
    "x = np.array([0.1, 0.4, 0.7, 1.2, 1.3, 1.7, 2.2, 2.8, 3.0, 4.0, 4.3, 4.4, 4.9]).reshape(-1,1)\n",
    "y = np.array([0.5, 0.9, 1.1, 1.5, 1.5, 2.0, 2.2, 2.8, 2.7, 3.0, 3.5, 3.7, 3.9]).reshape(-1,1)\n",
    "\n",
    "m = np.shape(x)\n",
    "A = np.hstack([np.ones(m),x])\n",
    "A = np.asmatrix(A)\n",
    "\n",
    "theta = (A.T*A).I*A.T*y\n",
    "y_predict = A * theta\n",
    "\n",
    "plt.scatter(x,y)\n",
    "plt.plot(x,y_predict)"
   ]
  },
  {
   "cell_type": "code",
   "execution_count": 102,
   "id": "dc32df77-c357-494f-89ce-02dbdafbcb89",
   "metadata": {},
   "outputs": [
    {
     "name": "stdout",
     "output_type": "stream",
     "text": [
      "2.0\n"
     ]
    },
    {
     "data": {
      "image/png": "[encoded data removed]",
      "text/plain": [
       "<Figure size 432x288 with 1 Axes>"
      ]
     },
     "metadata": {
      "needs_background": "light"
     },
     "output_type": "display_data"
    }
   ],
   "source": [
    "import numpy as np\n",
    "import matplotlib.pyplot as plt \n",
    "import seaborn as sns\n",
    "\n",
    "center_1 = np.array([1,1])\n",
    "center_2 = np.array([5,5])\n",
    "center_3 = np.array([8,1])\n",
    "\n",
    "data = np.random.randn(10,2)+center_1\n",
    "data = np.concatenate((data,np.random.randn(10,2)+center_2))\n",
    "data = np.concatenate((data,np.random.randn(10,2)+center_3))\n",
    "\n",
    "cluster = np.ones(10)\n",
    "cluster = np.concatenate((cluster,np.ones(10)*2))\n",
    "cluster = np.concatenate((cluster,np.ones(10)*3))\n",
    "\n",
    "new_data = [6,5]\n",
    "new_data = np.asarray(new_data)\n",
    "\n",
    "dist = np.sqrt((data[:,0]-new_data[0])**2+(data[:,1]-new_data[1])**2)\n",
    "\n",
    "ids = np.argpartition(dist,3)[:3]\n",
    "\n",
    "sns.scatterplot(x = data[:,0], y=data[:,1],hue = cluster)\n",
    "plt.scatter(new_data[0],new_data[1],marker='*',color='r',s=100)\n",
    "plt.scatter(data[ids,0],data[ids,1],color = \"blue\")\n",
    "\n",
    "vote_cluster = [cluster[ids[0]],cluster[ids[1]],cluster[ids[2]]]\n",
    "\n",
    "result = max(set(vote_cluster),key = vote_cluster.count)\n",
    "print(result)"
   ]
  },
  {
   "cell_type": "code",
   "execution_count": 100,
   "id": "1dd289c8-e9bf-46ce-a5c5-ca9dec27d2fb",
   "metadata": {},
   "outputs": [
    {
     "ename": "TypeError",
     "evalue": "int() argument must be a string, a bytes-like object or a number, not 'list'",
     "output_type": "error",
     "traceback": [
      "\u001b[1;31m---------------------------------------------------------------------------\u001b[0m",
      "\u001b[1;31mTypeError\u001b[0m                                 Traceback (most recent call last)",
      "Input \u001b[1;32mIn [100]\u001b[0m, in \u001b[0;36m<cell line: 1>\u001b[1;34m()\u001b[0m\n\u001b[1;32m----> 1\u001b[0m \u001b[38;5;28;43mint\u001b[39;49m\u001b[43m(\u001b[49m\u001b[43mvote_cluster\u001b[49m\u001b[43m)\u001b[49m\n",
      "\u001b[1;31mTypeError\u001b[0m: int() argument must be a string, a bytes-like object or a number, not 'list'"
     ]
    }
   ],
   "source": [
    "int(vote_cluster)"
   ]
  }
 ],
 "metadata": {
  "kernelspec": {
   "display_name": "Python 3 (ipykernel)",
   "language": "python",
   "name": "python3"
  },
  "language_info": {
   "codemirror_mode": {
    "name": "ipython",
    "version": 3
   },
   "file_extension": ".py",
   "mimetype": "text/x-python",
   "name": "python",
   "nbconvert_exporter": "python",
   "pygments_lexer": "ipython3",
   "version": "3.9.12"
  }
 },
 "nbformat": 4,
 "nbformat_minor": 5
}
