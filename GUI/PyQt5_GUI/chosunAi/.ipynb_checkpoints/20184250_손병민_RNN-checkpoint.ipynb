{
 "cells": [
  {
   "cell_type": "code",
   "execution_count": 3,
   "id": "supported-integer",
   "metadata": {},
   "outputs": [],
   "source": [
    "import numpy as np\n",
    "\n",
    "from tensorflow.keras.layers import Embedding, Flatten, Dense, LSTM, SimpleRNN\n",
    "from tensorflow.keras.models import Sequential\n",
    "from tensorflow.keras.preprocessing.text import one_hot\n",
    "from tensorflow.keras.preprocessing.sequence import pad_sequences\n",
    "from tensorflow.keras.preprocessing.text import Tokenizer\n",
    "from tensorflow.keras.utils import to_categorical"
   ]
  },
  {
   "cell_type": "code",
   "execution_count": 18,
   "id": "numerical-formula",
   "metadata": {},
   "outputs": [],
   "source": [
    "# 아리랑신문 일부 발췌\n",
    "text_data = \"\"\"Tackling inflation and expanding employment are on the government's priority list next year.\n",
    "This is according to Finance Minister Choo Kyung-ho  on this Wednesday.\n",
    "He also spoke of a new growth strategy to be shared within the year to ensure economic expansion amid the prolonged presence of risk factors here and elsewhere.\n",
    "The new strategy will seek to upgrade existing plans on agriculture manufacturing and IT as well as  take pro-active steps to boost exports and investment.\n",
    "Starting with the latest from the Qatar 2022 World Cup Argentina is through to the World Cup final after beating Croatia 3-nil.\n",
    "The win means the South American side reaches its sixth World Cup final.\n",
    "Argentina opened the scoring with a penalty by captain Lionel Messi in the 34th minute. Then five minutes later Julian Alvarez doubled Argentina's lead before scoring the team's third goal in the second half.\n",
    "The win also means that Messi has a chance of claiming the record for the most appearances at the World Cup.\n",
    "He is currently tied at 25 appearances with Lothar Matth us of Germany.\n",
    "Defending champion France takes on underdog Morocco in the other semi-final on Thursday at 4AM Korea time.\n",
    "\"\"\""
   ]
  },
  {
   "cell_type": "code",
   "execution_count": 19,
   "id": "understood-first",
   "metadata": {},
   "outputs": [
    {
     "name": "stdout",
     "output_type": "stream",
     "text": [
      "[27, 28, 4, 29, 30, 31, 3, 1, 32, 33, 34, 35, 14, 15, 8, 36, 2, 37, 38, 39, 40, 41, 3, 15, 42, 16, 17, 43, 5, 9, 18, 44, 19, 2, 45, 46, 47, 1, 14, 2, 48, 49, 50, 51, 1, 52, 53, 5, 54, 55, 56, 4, 57, 1, 18, 19, 58, 59, 2, 60, 61, 62, 3, 63, 64, 4, 65, 20, 66, 20, 67, 68, 69, 70, 2, 71, 72, 4, 73, 74, 10, 1, 75, 76, 1, 77, 78, 6, 7, 21, 8, 79, 2, 1, 6, 7, 11, 80, 81, 82, 83, 84, 1, 22, 23, 1, 85, 86, 87, 88, 89, 90, 6, 7, 11, 21, 91, 1, 24, 10, 9, 92, 93, 94, 95, 25, 12, 1, 96, 97, 98, 99, 100, 101, 102, 103, 104, 105, 106, 107, 24, 1, 108, 109, 110, 12, 1, 111, 112, 1, 22, 17, 23, 113, 25, 114, 9, 115, 5, 116, 1, 117, 118, 1, 119, 26, 13, 1, 6, 7, 16, 8, 120, 121, 13, 122, 26, 10, 123, 124, 125, 5, 126, 127, 128, 129, 130, 3, 131, 132, 12, 1, 133, 134, 11, 3, 135, 13, 136, 137, 138]\n"
     ]
    }
   ],
   "source": [
    "tokenizer = Tokenizer()\n",
    "tokenizer.fit_on_texts([text_data])\n",
    "# 정수 시퀀스로 변환\n",
    "encoded = tokenizer.texts_to_sequences([text_data])[0]\n",
    "print(encoded)"
   ]
  },
  {
   "cell_type": "code",
   "execution_count": 20,
   "id": "pressed-evening",
   "metadata": {},
   "outputs": [
    {
     "name": "stdout",
     "output_type": "stream",
     "text": [
      "{'the': 1, 'to': 2, 'on': 3, 'and': 4, 'of': 5, 'world': 6, 'cup': 7, 'is': 8, 'a': 9, 'with': 10, 'final': 11, 'in': 12, 'at': 13, 'year': 14, 'this': 15, 'he': 16, 'also': 17, 'new': 18, 'strategy': 19, 'as': 20, 'argentina': 21, 'win': 22, 'means': 23, 'scoring': 24, 'messi': 25, 'appearances': 26, 'tackling': 27, 'inflation': 28, 'expanding': 29, 'employment': 30, 'are': 31, \"government's\": 32, 'priority': 33, 'list': 34, 'next': 35, 'according': 36, 'finance': 37, 'minister': 38, 'choo': 39, 'kyung': 40, 'ho': 41, 'wednesday': 42, 'spoke': 43, 'growth': 44, 'be': 45, 'shared': 46, 'within': 47, 'ensure': 48, 'economic': 49, 'expansion': 50, 'amid': 51, 'prolonged': 52, 'presence': 53, 'risk': 54, 'factors': 55, 'here': 56, 'elsewhere': 57, 'will': 58, 'seek': 59, 'upgrade': 60, 'existing': 61, 'plans': 62, 'agriculture': 63, 'manufacturing': 64, 'it': 65, 'well': 66, 'take': 67, 'pro': 68, 'active': 69, 'steps': 70, 'boost': 71, 'exports': 72, 'investment': 73, 'starting': 74, 'latest': 75, 'from': 76, 'qatar': 77, '2022': 78, 'through': 79, 'after': 80, 'beating': 81, 'croatia': 82, '3': 83, 'nil': 84, 'south': 85, 'american': 86, 'side': 87, 'reaches': 88, 'its': 89, 'sixth': 90, 'opened': 91, 'penalty': 92, 'by': 93, 'captain': 94, 'lionel': 95, '34th': 96, 'minute': 97, 'then': 98, 'five': 99, 'minutes': 100, 'later': 101, 'julian': 102, 'alvarez': 103, 'doubled': 104, \"argentina's\": 105, 'lead': 106, 'before': 107, \"team's\": 108, 'third': 109, 'goal': 110, 'second': 111, 'half': 112, 'that': 113, 'has': 114, 'chance': 115, 'claiming': 116, 'record': 117, 'for': 118, 'most': 119, 'currently': 120, 'tied': 121, '25': 122, 'lothar': 123, 'matth': 124, 'us': 125, 'germany': 126, 'defending': 127, 'champion': 128, 'france': 129, 'takes': 130, 'underdog': 131, 'morocco': 132, 'other': 133, 'semi': 134, 'thursday': 135, '4am': 136, 'korea': 137, 'time': 138}\n",
      "vocab_size 139\n"
     ]
    }
   ],
   "source": [
    "# 단어의 정보 및 크기 확인\n",
    "print(tokenizer.word_index)\n",
    "vocab_size = len(tokenizer.word_index)+1\n",
    "print('vocab_size', vocab_size)"
   ]
  },
  {
   "cell_type": "code",
   "execution_count": 22,
   "id": "sixth-negative",
   "metadata": {},
   "outputs": [
    {
     "name": "stdout",
     "output_type": "stream",
     "text": [
      "[[27, 28], [28, 4], [4, 29], [29, 30], [30, 31], [31, 3], [3, 1], [1, 32], [32, 33], [33, 34], [34, 35], [35, 14], [14, 15], [15, 8], [8, 36], [36, 2], [2, 37], [37, 38], [38, 39], [39, 40], [40, 41], [41, 3], [3, 15], [15, 42], [42, 16], [16, 17], [17, 43], [43, 5], [5, 9], [9, 18], [18, 44], [44, 19], [19, 2], [2, 45], [45, 46], [46, 47], [47, 1], [1, 14], [14, 2], [2, 48], [48, 49], [49, 50], [50, 51], [51, 1], [1, 52], [52, 53], [53, 5], [5, 54], [54, 55], [55, 56], [56, 4], [4, 57], [57, 1], [1, 18], [18, 19], [19, 58], [58, 59], [59, 2], [2, 60], [60, 61], [61, 62], [62, 3], [3, 63], [63, 64], [64, 4], [4, 65], [65, 20], [20, 66], [66, 20], [20, 67], [67, 68], [68, 69], [69, 70], [70, 2], [2, 71], [71, 72], [72, 4], [4, 73], [73, 74], [74, 10], [10, 1], [1, 75], [75, 76], [76, 1], [1, 77], [77, 78], [78, 6], [6, 7], [7, 21], [21, 8], [8, 79], [79, 2], [2, 1], [1, 6], [6, 7], [7, 11], [11, 80], [80, 81], [81, 82], [82, 83], [83, 84], [84, 1], [1, 22], [22, 23], [23, 1], [1, 85], [85, 86], [86, 87], [87, 88], [88, 89], [89, 90], [90, 6], [6, 7], [7, 11], [11, 21], [21, 91], [91, 1], [1, 24], [24, 10], [10, 9], [9, 92], [92, 93], [93, 94], [94, 95], [95, 25], [25, 12], [12, 1], [1, 96], [96, 97], [97, 98], [98, 99], [99, 100], [100, 101], [101, 102], [102, 103], [103, 104], [104, 105], [105, 106], [106, 107], [107, 24], [24, 1], [1, 108], [108, 109], [109, 110], [110, 12], [12, 1], [1, 111], [111, 112], [112, 1], [1, 22], [22, 17], [17, 23], [23, 113], [113, 25], [25, 114], [114, 9], [9, 115], [115, 5], [5, 116], [116, 1], [1, 117], [117, 118], [118, 1], [1, 119], [119, 26], [26, 13], [13, 1], [1, 6], [6, 7], [7, 16], [16, 8], [8, 120], [120, 121], [121, 13], [13, 122], [122, 26], [26, 10], [10, 123], [123, 124], [124, 125], [125, 5], [5, 126], [126, 127], [127, 128], [128, 129], [129, 130], [130, 3], [3, 131], [131, 132], [132, 12], [12, 1], [1, 133], [133, 134], [134, 11], [11, 3], [3, 135], [135, 13], [13, 136], [136, 137], [137, 138]]\n",
      "length 200\n"
     ]
    }
   ],
   "source": [
    "seqences = list()\n",
    "for i in range(1, len(encoded)):\n",
    "    seqence = encoded[i-1:i+1]\n",
    "    seqences.append(seqence)\n",
    "print(seqences)\n",
    "print('length', len(seqences))"
   ]
  },
  {
   "cell_type": "code",
   "execution_count": 23,
   "id": "smoking-synthesis",
   "metadata": {},
   "outputs": [
    {
     "name": "stdout",
     "output_type": "stream",
     "text": [
      "X:  [ 27  28   4  29  30  31   3   1  32  33  34  35  14  15   8  36   2  37\n",
      "  38  39  40  41   3  15  42  16  17  43   5   9  18  44  19   2  45  46\n",
      "  47   1  14   2  48  49  50  51   1  52  53   5  54  55  56   4  57   1\n",
      "  18  19  58  59   2  60  61  62   3  63  64   4  65  20  66  20  67  68\n",
      "  69  70   2  71  72   4  73  74  10   1  75  76   1  77  78   6   7  21\n",
      "   8  79   2   1   6   7  11  80  81  82  83  84   1  22  23   1  85  86\n",
      "  87  88  89  90   6   7  11  21  91   1  24  10   9  92  93  94  95  25\n",
      "  12   1  96  97  98  99 100 101 102 103 104 105 106 107  24   1 108 109\n",
      " 110  12   1 111 112   1  22  17  23 113  25 114   9 115   5 116   1 117\n",
      " 118   1 119  26  13   1   6   7  16   8 120 121  13 122  26  10 123 124\n",
      " 125   5 126 127 128 129 130   3 131 132  12   1 133 134  11   3 135  13\n",
      " 136 137]\n",
      "y:  [ 28   4  29  30  31   3   1  32  33  34  35  14  15   8  36   2  37  38\n",
      "  39  40  41   3  15  42  16  17  43   5   9  18  44  19   2  45  46  47\n",
      "   1  14   2  48  49  50  51   1  52  53   5  54  55  56   4  57   1  18\n",
      "  19  58  59   2  60  61  62   3  63  64   4  65  20  66  20  67  68  69\n",
      "  70   2  71  72   4  73  74  10   1  75  76   1  77  78   6   7  21   8\n",
      "  79   2   1   6   7  11  80  81  82  83  84   1  22  23   1  85  86  87\n",
      "  88  89  90   6   7  11  21  91   1  24  10   9  92  93  94  95  25  12\n",
      "   1  96  97  98  99 100 101 102 103 104 105 106 107  24   1 108 109 110\n",
      "  12   1 111 112   1  22  17  23 113  25 114   9 115   5 116   1 117 118\n",
      "   1 119  26  13   1   6   7  16   8 120 121  13 122  26  10 123 124 125\n",
      "   5 126 127 128 129 130   3 131 132  12   1 133 134  11   3 135  13 136\n",
      " 137 138]\n"
     ]
    }
   ],
   "source": [
    "seqences = np.array(seqences)\n",
    "X,y = seqences[:,0], seqences[:,1]\n",
    "print(\"X: \", X)\n",
    "print(\"y: \", y)"
   ]
  },
  {
   "cell_type": "code",
   "execution_count": 24,
   "id": "mineral-produce",
   "metadata": {},
   "outputs": [
    {
     "name": "stdout",
     "output_type": "stream",
     "text": [
      "Model: \"sequential_1\"\n",
      "_________________________________________________________________\n",
      " Layer (type)                Output Shape              Param #   \n",
      "=================================================================\n",
      " embedding_1 (Embedding)     (None, 1, 10)             1390      \n",
      "                                                                 \n",
      " lstm_1 (LSTM)               (None, 50)                12200     \n",
      "                                                                 \n",
      " dense_1 (Dense)             (None, 139)               7089      \n",
      "                                                                 \n",
      "=================================================================\n",
      "Total params: 20,679\n",
      "Trainable params: 20,679\n",
      "Non-trainable params: 0\n",
      "_________________________________________________________________\n"
     ]
    }
   ],
   "source": [
    "model = Sequential()\n",
    "model.add(Embedding(vocab_size, 10, input_length=1))\n",
    "model.add(LSTM(50))\n",
    "model.add(Dense(vocab_size, activation='softmax'))\n",
    "model.summary()"
   ]
  },
  {
   "cell_type": "code",
   "execution_count": 25,
   "id": "metallic-ministry",
   "metadata": {},
   "outputs": [],
   "source": [
    "model.compile(loss='sparse_categorical_crossentropy', optimizer='adam', metrics=['accuracy'])"
   ]
  },
  {
   "cell_type": "code",
   "execution_count": 26,
   "id": "interpreted-undergraduate",
   "metadata": {},
   "outputs": [
    {
     "data": {
      "text/plain": [
       "<keras.callbacks.History at 0x11ba9b1d7c0>"
      ]
     },
     "execution_count": 26,
     "metadata": {},
     "output_type": "execute_result"
    }
   ],
   "source": [
    "model.fit(X, y, epochs=500, verbose=0)"
   ]
  },
  {
   "cell_type": "code",
   "execution_count": 27,
   "id": "israeli-roots",
   "metadata": {},
   "outputs": [
    {
     "name": "stdout",
     "output_type": "stream",
     "text": [
      "encoded [[1]]\n"
     ]
    }
   ],
   "source": [
    "test_text = 'the'\n",
    "encoded = tokenizer.texts_to_sequences([test_text])[0]\n",
    "encoded = np.array([encoded])\n",
    "print('encoded', encoded)"
   ]
  },
  {
   "cell_type": "code",
   "execution_count": 28,
   "id": "documented-sunrise",
   "metadata": {},
   "outputs": [
    {
     "name": "stdout",
     "output_type": "stream",
     "text": [
      "1/1 [==============================] - 0s 277ms/step\n",
      "onehot_output= [[2.90034950e-06 5.27322129e-07 1.97993405e-03 5.63995926e-08\n",
      "  1.07224296e-04 8.64109606e-05 1.17147572e-01 2.74854625e-04\n",
      "  1.02754657e-05 1.36677514e-09 2.11810657e-05 7.25426617e-06\n",
      "  1.98646943e-04 3.01227155e-05 6.88957497e-02 1.50546883e-04\n",
      "  6.01633246e-06 3.58130683e-06 5.22880629e-02 3.19267315e-06\n",
      "  1.21034172e-05 9.63237653e-07 1.09946214e-01 1.06669659e-05\n",
      "  4.90535200e-02 3.94957548e-04 9.05690811e-08 2.89589411e-06\n",
      "  2.07443358e-04 2.44648618e-06 8.51610480e-07 7.66913004e-08\n",
      "  5.78046292e-02 3.18735864e-08 1.60197249e-06 1.18955199e-06\n",
      "  5.03035153e-07 8.88712464e-07 2.98333089e-05 1.48662264e-04\n",
      "  5.42948328e-05 6.23341941e-04 8.73820227e-07 9.19081776e-06\n",
      "  3.83676934e-06 2.36187452e-06 4.85169257e-05 7.55766962e-07\n",
      "  1.78451864e-06 1.07800530e-04 8.05608852e-06 1.96170173e-08\n",
      "  5.67196794e-02 5.90435895e-11 3.73047593e-09 2.90986482e-05\n",
      "  1.44695041e-05 1.98165026e-06 3.68993133e-05 1.11574057e-08\n",
      "  1.63965888e-06 2.05894303e-05 2.17108376e-09 1.98973044e-06\n",
      "  2.22240342e-04 1.35670234e-06 3.62869668e-09 5.25327382e-09\n",
      "  3.35129007e-04 1.60398429e-06 8.30131612e-05 8.88573481e-07\n",
      "  5.82367147e-06 2.12519126e-06 3.66345247e-08 4.75844257e-02\n",
      "  1.18417995e-08 5.61382696e-02 7.66795694e-09 3.76675843e-07\n",
      "  2.24449209e-07 2.41940379e-05 8.60193999e-11 7.12213932e-07\n",
      "  1.55752146e-04 6.80086538e-02 6.66542348e-07 5.37262849e-07\n",
      "  1.69259729e-05 7.96975728e-05 9.51238762e-05 1.08263011e-04\n",
      "  3.08039162e-04 9.91251703e-09 1.47406554e-05 3.86785192e-04\n",
      "  4.81517166e-02 1.01584112e-06 1.47069679e-09 9.44208253e-12\n",
      "  2.61953042e-04 3.00060237e-05 3.34147975e-04 4.03902632e-05\n",
      "  4.12510630e-08 1.13500420e-09 1.76019699e-09 2.61203400e-06\n",
      "  4.76319604e-02 2.07627927e-05 1.42733914e-09 4.77607548e-02\n",
      "  5.65402880e-09 4.99203523e-08 1.43195241e-04 4.07991029e-04\n",
      "  2.25374097e-09 5.64737171e-02 4.29012090e-07 5.00077084e-02\n",
      "  4.02613892e-07 4.75174147e-06 1.67249254e-08 1.51709472e-08\n",
      "  8.12533415e-07 5.54273574e-05 2.99114755e-09 1.29502632e-06\n",
      "  5.61517605e-04 5.59386820e-07 1.70084711e-08 1.95736811e-06\n",
      "  1.04050559e-04 5.72697446e-02 3.37737321e-04 2.53761414e-06\n",
      "  1.62391025e-08 3.39708913e-06 2.90718279e-04]]\n"
     ]
    }
   ],
   "source": [
    "onehot_output = model.predict(encoded)\n",
    "print('onehot_output=', onehot_output)"
   ]
  },
  {
   "cell_type": "code",
   "execution_count": 29,
   "id": "attended-trunk",
   "metadata": {},
   "outputs": [
    {
     "name": "stdout",
     "output_type": "stream",
     "text": [
      "output= 6\n"
     ]
    }
   ],
   "source": [
    "output = np.argmax(onehot_output)\n",
    "print('output=', output)"
   ]
  },
  {
   "cell_type": "code",
   "execution_count": 30,
   "id": "inside-broad",
   "metadata": {},
   "outputs": [
    {
     "name": "stdout",
     "output_type": "stream",
     "text": [
      "the => world\n"
     ]
    }
   ],
   "source": [
    "for word, index in tokenizer.word_index.items():\n",
    "    if index == output:\n",
    "        print(test_text, \"=>\", word)"
   ]
  },
  {
   "cell_type": "code",
   "execution_count": null,
   "id": "96632a03",
   "metadata": {},
   "outputs": [],
   "source": []
  }
 ],
 "metadata": {
  "kernelspec": {
   "display_name": "Python 3 (ipykernel)",
   "language": "python",
   "name": "python3"
  },
  "language_info": {
   "codemirror_mode": {
    "name": "ipython",
    "version": 3
   },
   "file_extension": ".py",
   "mimetype": "text/x-python",
   "name": "python",
   "nbconvert_exporter": "python",
   "pygments_lexer": "ipython3",
   "version": "3.9.12"
  }
 },
 "nbformat": 4,
 "nbformat_minor": 5
}
