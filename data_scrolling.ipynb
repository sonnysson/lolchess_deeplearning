{
 "cells": [
  {
   "cell_type": "code",
   "execution_count": 7,
   "id": "cd46d711-ceae-4a32-812a-970011b8e7dd",
   "metadata": {},
   "outputs": [
    {
     "name": "stdout",
     "output_type": "stream",
     "text": [
      "[['2', 'Twitch', 'Shen', 'Xayah', 'Neeko', 'Hecarim', 'Soraka', 'Yasuo', 'Shyvana'], ['3', 'Heimerdinger', 'Tristana', 'Sylas', 'Lulu', 'Corki', 'Soraka', 'Zoe', \"Sy'fen\"], ['3', 'Shen', 'Qiyana', 'Sylas', 'Talon', 'Ornn', 'Pyke', 'Soraka', \"Sy'fen\"], ['2', 'Nami', 'Sylas', 'Soraka', 'Bard', 'Pyke', 'Yasuo', 'Zoe', \"Sy'fen\"], ['4', 'Sejuani', 'Shen', 'Twitch', 'Qiyana', 'Ornn', 'Xayah', 'Talon', 'Hecarim', 'Bard'], ['1', 'Braum', 'Lillia', 'Thresh', 'Diana', 'Olaf', 'Nunu', 'Soraka', 'Yasuo', 'Pyke'], ['3', 'Tristana', 'Sylas', 'Lulu', 'Sona', 'Corki', 'Yasuo', \"Sy'fen\"], ['3', 'Jinx', 'Thresh', 'Lulu', 'Sona', 'Corki', 'Bard', 'Pyke', 'Idas'], ['4', 'Sejuani', 'Yone', 'Nunu', 'Hecarim', 'Yasuo', 'Soraka', 'Daeja'], ['2', 'Thresh', 'Sylas', 'Ryze', 'Ornn', 'Pyke', 'Zoe', \"Sy'fen\"]]\n"
     ]
    }
   ],
   "source": [
    "import urllib,requests\n",
    "import numpy as np\n",
    "from bs4 import BeautifulSoup\n",
    "\n",
    "\n",
    "leaderboard_rl = 'https://lolchess.gg/profile/kr/%EB%B0%80%EC%A7%9A%EB%AA%A8%EC%9E%90%EC%8C%8D%EC%98%86/s7/matches/ranked'\n",
    "res = requests.get(leaderboard_rl)\n",
    "res.raise_for_status()\n",
    "soup = BeautifulSoup(res.text,'html.parser')\n",
    "\n",
    "data = []\n",
    "\n",
    "units = soup.find_all('div',{'class':'units'}) # 페이지 안에 모든 게임 기물에 접근\n",
    "rank = soup.find_all('div',{'class':'placement'})\n",
    "\n",
    "for i in range(len(units)):\n",
    "    unit = units[i].find_all('div',{'class':'unit'})# 한게임 안에 사용한 게임 기물\n",
    "    Ranking = str(rank[i])\n",
    "    Ranking = Ranking[24:25]\n",
    "    data.append([])\n",
    "    data[i].append(Ranking)\n",
    "    for j in range(len(unit)):\n",
    "        champions = str(unit[j])\n",
    "        result = champions.find('title=') + 6\n",
    "        champion = champions[result:result+16]\n",
    "        champion = champion.split('\"')\n",
    "        data[i].append(champion[1])\n",
    "        \n",
    "print(data)"
   ]
  },
  {
   "cell_type": "code",
   "execution_count": 6,
   "id": "6eb2b2de-1b68-4d69-9d7c-d5cabee3c1ac",
   "metadata": {},
   "outputs": [
    {
     "data": {
      "text/plain": [
       "'3'"
      ]
     },
     "execution_count": 6,
     "metadata": {},
     "output_type": "execute_result"
    }
   ],
   "source": [
    "rank = list(rank)\n",
    "a = str(rank[1])\n",
    "a[24:25]"
   ]
  }
 ],
 "metadata": {
  "kernelspec": {
   "display_name": "Python 3 (ipykernel)",
   "language": "python",
   "name": "python3"
  },
  "language_info": {
   "codemirror_mode": {
    "name": "ipython",
    "version": 3
   },
   "file_extension": ".py",
   "mimetype": "text/x-python",
   "name": "python",
   "nbconvert_exporter": "python",
   "pygments_lexer": "ipython3",
   "version": "3.9.12"
  }
 },
 "nbformat": 4,
 "nbformat_minor": 5
}
