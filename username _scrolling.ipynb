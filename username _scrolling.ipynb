{
 "cells": [
  {
   "cell_type": "markdown",
   "id": "b13512c7-9c27-4dfd-9b39-44c3c677177f",
   "metadata": {},
   "source": [
    "## installlist\n",
    "\n",
    "1. pip install requests\n",
    "1. pip install BeautifulSoup4\n"
   ]
  },
  {
   "cell_type": "code",
   "execution_count": 61,
   "id": "6dc1e774-3763-4bfa-a22c-5f4f5d41f896",
   "metadata": {},
   "outputs": [
    {
     "name": "stdout",
     "output_type": "stream",
     "text": [
      "['밀짚모자쌍옆', 'KanataCh', 'Cassigod', 'Twitchyubinster', '초록소이명박', '집값폭등문재인', 'ZENIATFT', '오박사TV', 'incheonfist', 'strongsexy', '2776846289470848', 'InVLeVition', 'uL퀸카은지', '내심장은스테레오', '큐잡는데18분', 'TwTF엘무무', '므네짱짱', '패트롤원툴vv', '광어콩', '오박사유튜브구독', 'KGE', '빛비늘', 'NoMidKaisaPlz', 'Koreanberry', 'Acro히츄', 'ahickey', '깔끔하고', '김대중로무현', '아이디만들기개귀찮네', '쵸리네', '케시', '이렇게좋은날', 'TwTF인천피스트', 'Kanivsh', '배불뚝이팬더', 'precel', '오세백', 'YouKn0wWhat', '틈빈', '플인선', 'SummerOasis', '장유보안관', '네네네네네대폭주', '구깨룩', 'KAIST21학번', '우리크', '궁뎅크니', '조정회', '고려헬스클럽', '표면', '종범1', '대성초', 'hp42', '체스만하자', 'InVSIHYUN', '지보배', '민첩사수', 'KTDY', 'InVGogoAnt', '여고생모순니', 'MAYSAQ', 'gochess', '허민욱전용백정', '정동글', 'AcroDrucKer', 'InVJiro', '김밥처럼넌만두처럼달콤해', 'gabrieljeju', '꼴픽이보고안배움', '나그거한입만주라', 'InVArthur', '순방요정', 'fhfcpdnlgoaksems', 'LIARTROLLER', 'ezpacmanzz', 'Neroliwater', '당근파꼬봉창훈', '수채철', '엉망진창초구리', '동찬1', 'mymaster2', '임찌녕', '남부지소', '송창용', '극악무도복실이', '정유년묘월묘일', '싼타할매', '단간론파키리기리', 'VoteLeeJaeMyeong', 'Soldering', 'DHCNJ우쭐리우중', '다냥냥', '꼴픽이', '천상이당', 'TwTF김준민', 'TwTF근열맨', 'GodGyeom', '미스터초밥왕77', '양치돈']\n"
     ]
    }
   ],
   "source": [
    "import requests\n",
    "from bs4 import BeautifulSoup\n",
    "\n",
    "leaderboard_rl = 'https://lolchess.gg/leaderboards'\n",
    "res = requests.get(leaderboard_rl)\n",
    "res.raise_for_status()\n",
    "leaderboard_soup = BeautifulSoup(res.text,'html.parser')\n",
    "\n",
    "summoner_list = []\n",
    "\n",
    "for i in range(1,100): # 상위 100 명의 이름 가져오기\n",
    "    #선택자 사용\n",
    "    select = '#wrapper > div.leaderboards.container.mt-4.px-0 > table > tbody > tr:nth-child('+str(i)+') > td.summoner > a'\n",
    "    summoner = str(leaderboard_soup.select_one(select))\n",
    "    #공백제거 , 띄어쓰기로 분류\n",
    "    summoner = summoner.replace(' ','').split('\\n')\n",
    "    #리스트에 추가\n",
    "    summoner_list.append(summoner[1])\n",
    "    \n",
    "print(summoner_list)"
   ]
  }
 ],
 "metadata": {
  "kernelspec": {
   "display_name": "Python 3 (ipykernel)",
   "language": "python",
   "name": "python3"
  },
  "language_info": {
   "codemirror_mode": {
    "name": "ipython",
    "version": 3
   },
   "file_extension": ".py",
   "mimetype": "text/x-python",
   "name": "python",
   "nbconvert_exporter": "python",
   "pygments_lexer": "ipython3",
   "version": "3.9.12"
  }
 },
 "nbformat": 4,
 "nbformat_minor": 5
}
