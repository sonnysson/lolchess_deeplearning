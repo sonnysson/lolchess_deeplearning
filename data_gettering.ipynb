{
 "cells": [
  {
   "cell_type": "markdown",
   "id": "dfb5c095-6399-4403-ba9c-e57f2fcbeb28",
   "metadata": {},
   "source": [
    "## installlist\n",
    "\n",
    "\n",
    "1. pip install requests\n",
    "1. pip install BeautifulSoup4\n",
    "1. pip install tqdm"
   ]
  },
  {
   "cell_type": "code",
   "execution_count": null,
   "id": "a2527ffb-28b8-40f9-b49f-19929dc000d0",
   "metadata": {},
   "outputs": [
    {
     "name": "stderr",
     "output_type": "stream",
     "text": [
      "gettering top players name: 100%|██████████████████████████████████████████████████████| 99/99 [00:01<00:00, 88.69it/s]\n",
      "gettering top players records:   2%|█                                                   | 2/99 [00:06<05:13,  3.23s/it]"
     ]
    }
   ],
   "source": [
    "import requests\n",
    "import time\n",
    "from tqdm import tqdm\n",
    "from bs4 import BeautifulSoup\n",
    "\n",
    "\n",
    "leaderboard_rl = 'https://lolchess.gg/leaderboards'\n",
    "res = requests.get(leaderboard_rl)\n",
    "res.raise_for_status()\n",
    "leaderboard_soup = BeautifulSoup(res.text,'html.parser')\n",
    "\n",
    "summoner_list = [] #플레이어 이름 리스트\n",
    "summoner_number = 100 # 긁어올 플레이어 수\n",
    "data = [] #데이터 빈 리스트\n",
    "data_number = 0 # 데이터 개수\n",
    "\n",
    "\n",
    "# 상위 100 명의 이름 가져오기\n",
    "for i in tqdm(range(1,summoner_number),desc='gettering top players name'): # tqdm 은 로딩창 구현을 위한것임 , for i in range 와 같은말 ,desc 은 설명\n",
    "    #선택자 사용\n",
    "    select = '#wrapper > div.leaderboards.container.mt-4.px-0 > table > tbody > tr:nth-child('+str(i)+') > td.summoner > a' #플레이어 이름 리스트 긁어오기\n",
    "    summoner = str(leaderboard_soup.select_one(select)) # str 로 변경후 데이터 슬라이싱\n",
    "    #공백제거 , 띄어쓰기로 분류\n",
    "    summoner = summoner.replace(' ','').split('\\n')\n",
    "    #리스트에 추가\n",
    "    summoner_list.append(summoner[1])\n",
    "    \n",
    "    \n",
    "for name in tqdm(summoner_list,desc='gettering top players records'):\n",
    "    player_rl = 'https://lolchess.gg/profile/kr/'+ name + '/s7/matches/ranked'\n",
    "    \n",
    "    \n",
    "    for k in range(1,10): # 페이지 넘버\n",
    "        player_rl = 'https://lolchess.gg/profile/kr/'+ name + '/s7/matches/ranked/'+str(k)\n",
    "        res = requests.get(player_rl)\n",
    "        res.raise_for_status()\n",
    "        soup = BeautifulSoup(res.text,'html.parser')\n",
    "        units = soup.find_all('div',{'class':'units'}) # 페이지 안에 모든 게임 기물에 접근\n",
    "        rank = soup.find_all('div',{'class':'placement'})\n",
    "\n",
    "        for i in range(len(units)): # 현재 페이지에 있는 유닛 개수 만큼만 돌아감 (unit(부모 클래스 ) / units(자식 클래스))\n",
    "            unit = units[i].find_all('div',{'class':'unit'})# 한게임 안에 사용한 게임 기물에 접근\n",
    "            Ranking = str(rank[i]) # 슬라이싱 하기 위해 데이터 str 형태로 변경\n",
    "            Ranking = Ranking[24:25] \n",
    "            data.append([])\n",
    "            data[data_number].append(Ranking) # i 값이 아닌 data number로 하는것이 중요\n",
    "\n",
    "            for j in range(len(unit)): # 유닛 안에있는 자식 클래스 units 개수 만큼 돌아감\n",
    "                champions = str(unit[j])\n",
    "                result = champions.find('title=') + 6 # 데이터 슬라이싱 \n",
    "                champion = champions[result:result+16] # 캐릭터 최대 길이 아우렐리온 솔 고려\n",
    "                champion = champion.split('\"')\n",
    "                data[data_number].append(champion[1])\n",
    "\n",
    "            data_number += 1\n",
    "\n",
    "print(data)"
   ]
  }
 ],
 "metadata": {
  "kernelspec": {
   "display_name": "Python 3 (ipykernel)",
   "language": "python",
   "name": "python3"
  },
  "language_info": {
   "codemirror_mode": {
    "name": "ipython",
    "version": 3
   },
   "file_extension": ".py",
   "mimetype": "text/x-python",
   "name": "python",
   "nbconvert_exporter": "python",
   "pygments_lexer": "ipython3",
   "version": "3.9.12"
  }
 },
 "nbformat": 4,
 "nbformat_minor": 5
}
