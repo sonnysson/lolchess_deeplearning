{
 "cells": [
  {
   "cell_type": "code",
   "execution_count": null,
   "id": "cbc7cbb5-8d92-46c8-8dce-be30fd258965",
   "metadata": {},
   "outputs": [],
   "source": [
    "손병민 파일 테스트"
   ]
  }
 ],
 "metadata": {
  "kernelspec": {
   "display_name": "Python 3 (ipykernel)",
   "language": "python",
   "name": "python3"
  },
  "language_info": {
   "codemirror_mode": {
    "name": "ipython",
    "version": 3
   },
   "file_extension": ".py",
   "mimetype": "text/x-python",
   "name": "python",
   "nbconvert_exporter": "python",
   "pygments_lexer": "ipython3",
   "version": "3.9.12"
  }
 },
 "nbformat": 4,
 "nbformat_minor": 5
}
