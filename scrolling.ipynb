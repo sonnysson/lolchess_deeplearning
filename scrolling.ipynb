{
 "cells": [
  {
   "cell_type": "code",
   "execution_count": 25,
   "id": "6dc1e774-3763-4bfa-a22c-5f4f5d41f896",
   "metadata": {},
   "outputs": [
    {
     "name": "stdout",
     "output_type": "stream",
     "text": [
      "['밀짚모자쌍옆\\n']\n"
     ]
    }
   ],
   "source": [
    "import requests\n",
    "\n",
    "from bs4 import BeautifulSoup\n",
    "\n",
    "\n",
    "\n",
    "url = 'https://lolchess.gg/leaderboards'\n",
    "res = requests.get(url)\n",
    "res.raise_for_status()\n",
    "soup = BeautifulSoup(res.text,'lxml')\n",
    "\n",
    "summoner_list = []\n",
    "\n",
    "for i in range(50):\n",
    "    summoner = str(soup.select_one('#wrapper > div.leaderboards.container.mt-4.px-0 > table > tbody > tr:nth-child(1) > td.summoner > a'))\n",
    "    summoner = summoner[125:150].replace(' ','')\n",
    "    summoner_list.append(summoner)\n",
    "#summoner = summoner.split(' ')\n",
    "print(summoner_list)"
   ]
  },
  {
   "cell_type": "code",
   "execution_count": null,
   "id": "b16dde1d-4742-4e15-b2b5-d02096bb7269",
   "metadata": {},
   "outputs": [],
   "source": [
    "#wrapper > div.leaderboards.container.mt-4.px-0 > table > tbody > tr:nth-child(1) > td.summoner > a"
   ]
  }
 ],
 "metadata": {
  "kernelspec": {
   "display_name": "Python 3 (ipykernel)",
   "language": "python",
   "name": "python3"
  },
  "language_info": {
   "codemirror_mode": {
    "name": "ipython",
    "version": 3
   },
   "file_extension": ".py",
   "mimetype": "text/x-python",
   "name": "python",
   "nbconvert_exporter": "python",
   "pygments_lexer": "ipython3",
   "version": "3.9.12"
  }
 },
 "nbformat": 4,
 "nbformat_minor": 5
}
