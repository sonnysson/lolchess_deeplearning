{
 "cells": [
  {
   "cell_type": "code",
   "execution_count": 1,
   "id": "e6335f74",
   "metadata": {},
   "outputs": [
    {
     "ename": "RuntimeError",
     "evalue": "module compiled against API version 0xe but this version of numpy is 0xd",
     "output_type": "error",
     "traceback": [
      "\u001b[1;31m---------------------------------------------------------------------------\u001b[0m",
      "\u001b[1;31mRuntimeError\u001b[0m                              Traceback (most recent call last)",
      "\u001b[1;31mRuntimeError\u001b[0m: module compiled against API version 0xe but this version of numpy is 0xd"
     ]
    },
    {
     "ename": "ImportError",
     "evalue": "initialization failed",
     "output_type": "error",
     "traceback": [
      "\u001b[1;31m---------------------------------------------------------------------------\u001b[0m",
      "\u001b[1;31mImportError\u001b[0m                               Traceback (most recent call last)",
      "\u001b[1;31mImportError\u001b[0m: numpy.core.multiarray failed to import",
      "\nThe above exception was the direct cause of the following exception:\n",
      "\u001b[1;31mSystemError\u001b[0m                               Traceback (most recent call last)",
      "\u001b[1;31mSystemError\u001b[0m: <built-in method __contains__ of dict object at 0x00000252F9C29500> returned a result with an error set",
      "\nThe above exception was the direct cause of the following exception:\n",
      "\u001b[1;31mImportError\u001b[0m                               Traceback (most recent call last)",
      "Input \u001b[1;32mIn [1]\u001b[0m, in \u001b[0;36m<cell line: 1>\u001b[1;34m()\u001b[0m\n\u001b[1;32m----> 1\u001b[0m \u001b[38;5;28;01mimport\u001b[39;00m \u001b[38;5;21;01mtensorflow\u001b[39;00m \u001b[38;5;28;01mas\u001b[39;00m \u001b[38;5;21;01mtf\u001b[39;00m\n\u001b[0;32m      2\u001b[0m \u001b[38;5;28;01mimport\u001b[39;00m \u001b[38;5;21;01mnumpy\u001b[39;00m \u001b[38;5;28;01mas\u001b[39;00m \u001b[38;5;21;01mnp\u001b[39;00m\n\u001b[0;32m      3\u001b[0m \u001b[38;5;28;01mimport\u001b[39;00m \u001b[38;5;21;01mpandas\u001b[39;00m \u001b[38;5;28;01mas\u001b[39;00m \u001b[38;5;21;01mpd\u001b[39;00m\n",
      "File \u001b[1;32m~\\anaconda3\\envs\\tf_2_5\\lib\\site-packages\\tensorflow\\__init__.py:37\u001b[0m, in \u001b[0;36m<module>\u001b[1;34m\u001b[0m\n\u001b[0;32m     34\u001b[0m \u001b[38;5;28;01mimport\u001b[39;00m \u001b[38;5;21;01msys\u001b[39;00m \u001b[38;5;28;01mas\u001b[39;00m \u001b[38;5;21;01m_sys\u001b[39;00m\n\u001b[0;32m     35\u001b[0m \u001b[38;5;28;01mimport\u001b[39;00m \u001b[38;5;21;01mtyping\u001b[39;00m \u001b[38;5;28;01mas\u001b[39;00m \u001b[38;5;21;01m_typing\u001b[39;00m\n\u001b[1;32m---> 37\u001b[0m \u001b[38;5;28;01mfrom\u001b[39;00m \u001b[38;5;21;01mtensorflow\u001b[39;00m\u001b[38;5;21;01m.\u001b[39;00m\u001b[38;5;21;01mpython\u001b[39;00m\u001b[38;5;21;01m.\u001b[39;00m\u001b[38;5;21;01mtools\u001b[39;00m \u001b[38;5;28;01mimport\u001b[39;00m module_util \u001b[38;5;28;01mas\u001b[39;00m _module_util\n\u001b[0;32m     38\u001b[0m \u001b[38;5;28;01mfrom\u001b[39;00m \u001b[38;5;21;01mtensorflow\u001b[39;00m\u001b[38;5;21;01m.\u001b[39;00m\u001b[38;5;21;01mpython\u001b[39;00m\u001b[38;5;21;01m.\u001b[39;00m\u001b[38;5;21;01mutil\u001b[39;00m\u001b[38;5;21;01m.\u001b[39;00m\u001b[38;5;21;01mlazy_loader\u001b[39;00m \u001b[38;5;28;01mimport\u001b[39;00m LazyLoader \u001b[38;5;28;01mas\u001b[39;00m _LazyLoader\n\u001b[0;32m     40\u001b[0m \u001b[38;5;66;03m# Make sure code inside the TensorFlow codebase can use tf2.enabled() at import.\u001b[39;00m\n",
      "File \u001b[1;32m~\\anaconda3\\envs\\tf_2_5\\lib\\site-packages\\tensorflow\\python\\__init__.py:37\u001b[0m, in \u001b[0;36m<module>\u001b[1;34m\u001b[0m\n\u001b[0;32m     29\u001b[0m \u001b[38;5;66;03m# We aim to keep this file minimal and ideally remove completely.\u001b[39;00m\n\u001b[0;32m     30\u001b[0m \u001b[38;5;66;03m# If you are adding a new file with @tf_export decorators,\u001b[39;00m\n\u001b[0;32m     31\u001b[0m \u001b[38;5;66;03m# import it in modules_with_exports.py instead.\u001b[39;00m\n\u001b[0;32m     32\u001b[0m \n\u001b[0;32m     33\u001b[0m \u001b[38;5;66;03m# go/tf-wildcard-import\u001b[39;00m\n\u001b[0;32m     34\u001b[0m \u001b[38;5;66;03m# pylint: disable=wildcard-import,g-bad-import-order,g-import-not-at-top\u001b[39;00m\n\u001b[0;32m     36\u001b[0m \u001b[38;5;28;01mfrom\u001b[39;00m \u001b[38;5;21;01mtensorflow\u001b[39;00m\u001b[38;5;21;01m.\u001b[39;00m\u001b[38;5;21;01mpython\u001b[39;00m \u001b[38;5;28;01mimport\u001b[39;00m pywrap_tensorflow \u001b[38;5;28;01mas\u001b[39;00m _pywrap_tensorflow\n\u001b[1;32m---> 37\u001b[0m \u001b[38;5;28;01mfrom\u001b[39;00m \u001b[38;5;21;01mtensorflow\u001b[39;00m\u001b[38;5;21;01m.\u001b[39;00m\u001b[38;5;21;01mpython\u001b[39;00m\u001b[38;5;21;01m.\u001b[39;00m\u001b[38;5;21;01meager\u001b[39;00m \u001b[38;5;28;01mimport\u001b[39;00m context\n\u001b[0;32m     39\u001b[0m \u001b[38;5;66;03m# pylint: enable=wildcard-import\u001b[39;00m\n\u001b[0;32m     40\u001b[0m \n\u001b[0;32m     41\u001b[0m \u001b[38;5;66;03m# Bring in subpackages.\u001b[39;00m\n\u001b[0;32m     42\u001b[0m \u001b[38;5;28;01mfrom\u001b[39;00m \u001b[38;5;21;01mtensorflow\u001b[39;00m\u001b[38;5;21;01m.\u001b[39;00m\u001b[38;5;21;01mpython\u001b[39;00m \u001b[38;5;28;01mimport\u001b[39;00m data\n",
      "File \u001b[1;32m~\\anaconda3\\envs\\tf_2_5\\lib\\site-packages\\tensorflow\\python\\eager\\context.py:35\u001b[0m, in \u001b[0;36m<module>\u001b[1;34m\u001b[0m\n\u001b[0;32m     33\u001b[0m \u001b[38;5;28;01mfrom\u001b[39;00m \u001b[38;5;21;01mtensorflow\u001b[39;00m\u001b[38;5;21;01m.\u001b[39;00m\u001b[38;5;21;01mpython\u001b[39;00m \u001b[38;5;28;01mimport\u001b[39;00m pywrap_tfe\n\u001b[0;32m     34\u001b[0m \u001b[38;5;28;01mfrom\u001b[39;00m \u001b[38;5;21;01mtensorflow\u001b[39;00m\u001b[38;5;21;01m.\u001b[39;00m\u001b[38;5;21;01mpython\u001b[39;00m \u001b[38;5;28;01mimport\u001b[39;00m tf2\n\u001b[1;32m---> 35\u001b[0m \u001b[38;5;28;01mfrom\u001b[39;00m \u001b[38;5;21;01mtensorflow\u001b[39;00m\u001b[38;5;21;01m.\u001b[39;00m\u001b[38;5;21;01mpython\u001b[39;00m\u001b[38;5;21;01m.\u001b[39;00m\u001b[38;5;21;01mclient\u001b[39;00m \u001b[38;5;28;01mimport\u001b[39;00m pywrap_tf_session\n\u001b[0;32m     36\u001b[0m \u001b[38;5;28;01mfrom\u001b[39;00m \u001b[38;5;21;01mtensorflow\u001b[39;00m\u001b[38;5;21;01m.\u001b[39;00m\u001b[38;5;21;01mpython\u001b[39;00m\u001b[38;5;21;01m.\u001b[39;00m\u001b[38;5;21;01meager\u001b[39;00m \u001b[38;5;28;01mimport\u001b[39;00m executor\n\u001b[0;32m     37\u001b[0m \u001b[38;5;28;01mfrom\u001b[39;00m \u001b[38;5;21;01mtensorflow\u001b[39;00m\u001b[38;5;21;01m.\u001b[39;00m\u001b[38;5;21;01mpython\u001b[39;00m\u001b[38;5;21;01m.\u001b[39;00m\u001b[38;5;21;01meager\u001b[39;00m \u001b[38;5;28;01mimport\u001b[39;00m monitoring\n",
      "File \u001b[1;32m~\\anaconda3\\envs\\tf_2_5\\lib\\site-packages\\tensorflow\\python\\client\\pywrap_tf_session.py:19\u001b[0m, in \u001b[0;36m<module>\u001b[1;34m\u001b[0m\n\u001b[0;32m     17\u001b[0m \u001b[38;5;66;03m# pylint: disable=invalid-import-order,g-bad-import-order, wildcard-import, unused-import\u001b[39;00m\n\u001b[0;32m     18\u001b[0m \u001b[38;5;28;01mfrom\u001b[39;00m \u001b[38;5;21;01mtensorflow\u001b[39;00m\u001b[38;5;21;01m.\u001b[39;00m\u001b[38;5;21;01mpython\u001b[39;00m \u001b[38;5;28;01mimport\u001b[39;00m pywrap_tensorflow\n\u001b[1;32m---> 19\u001b[0m \u001b[38;5;28;01mfrom\u001b[39;00m \u001b[38;5;21;01mtensorflow\u001b[39;00m\u001b[38;5;21;01m.\u001b[39;00m\u001b[38;5;21;01mpython\u001b[39;00m\u001b[38;5;21;01m.\u001b[39;00m\u001b[38;5;21;01mclient\u001b[39;00m\u001b[38;5;21;01m.\u001b[39;00m\u001b[38;5;21;01m_pywrap_tf_session\u001b[39;00m \u001b[38;5;28;01mimport\u001b[39;00m \u001b[38;5;241m*\u001b[39m\n\u001b[0;32m     20\u001b[0m \u001b[38;5;28;01mfrom\u001b[39;00m \u001b[38;5;21;01mtensorflow\u001b[39;00m\u001b[38;5;21;01m.\u001b[39;00m\u001b[38;5;21;01mpython\u001b[39;00m\u001b[38;5;21;01m.\u001b[39;00m\u001b[38;5;21;01mclient\u001b[39;00m\u001b[38;5;21;01m.\u001b[39;00m\u001b[38;5;21;01m_pywrap_tf_session\u001b[39;00m \u001b[38;5;28;01mimport\u001b[39;00m _TF_SetTarget\n\u001b[0;32m     21\u001b[0m \u001b[38;5;28;01mfrom\u001b[39;00m \u001b[38;5;21;01mtensorflow\u001b[39;00m\u001b[38;5;21;01m.\u001b[39;00m\u001b[38;5;21;01mpython\u001b[39;00m\u001b[38;5;21;01m.\u001b[39;00m\u001b[38;5;21;01mclient\u001b[39;00m\u001b[38;5;21;01m.\u001b[39;00m\u001b[38;5;21;01m_pywrap_tf_session\u001b[39;00m \u001b[38;5;28;01mimport\u001b[39;00m _TF_SetConfig\n",
      "\u001b[1;31mImportError\u001b[0m: initialization failed"
     ]
    }
   ],
   "source": [
    "import tensorflow as tf\n",
    "import numpy as np\n",
    "import pandas as pd\n",
    "from tensorflow.keras.models import Sequential\n",
    "from tensorflow.keras.layers import Dense, Dropout, Embedding, LSTM\n",
    "from tensorflow.keras.optimizers import RMSprop\n",
    "from tensorflow.keras.preprocessing.text import Tokenizer\n",
    "from tensorflow.keras.preprocessing.sequence import pad_sequences\n",
    "\n",
    "from sklearn.model_selection import train_test_split\n",
    "\n",
    "from tensorflow.keras import backend as K\n",
    "def root_mean_squared_error(y_true, y_pred):\n",
    "    return K.sqrt(K.mean(K.square(y_pred - y_true)))\n",
    "import csv"
   ]
  },
  {
   "cell_type": "code",
   "execution_count": null,
   "id": "8840716e",
   "metadata": {},
   "outputs": [],
   "source": [
    "f = open(\"DIAMOND_I_battle_data.csv\")\n",
    "rdr = csv.reader(f)\n",
    "r = list(rdr)\n",
    "f.close()\n",
    "\n",
    "label = []\n",
    "sentences = []\n",
    "for R in r[1:]:\n",
    "    _sentences = \"\"\n",
    "    for i, _R in enumerate(R):\n",
    "        __R = _R.replace(\"[\", \"\").replace(\"]\", \"\").replace(\"'\", \"\").replace(\" \", \"\")\n",
    "        if i > 0 and i != 4 and len(__R) > 0:\n",
    "            __R = __R.split(\",\")\n",
    "            __R = \"-\".join(__R[:2] + sorted(__R[2:]))\n",
    "            _sentences += __R + \" \"\n",
    "        if i == 4:\n",
    "            label.append(int(__R))\n",
    "    sentences.append(_sentences)\n",
    "\n",
    "data = pd.DataFrame(zip(sentences, label), columns = ['sentence', 'label'])"
   ]
  },
  {
   "cell_type": "code",
   "execution_count": null,
   "id": "8f9e7ae6",
   "metadata": {},
   "outputs": [],
   "source": [
    "x_data, y_data = data['sentence'], data['label']\n",
    "x_train, x_test, y_train, y_test = train_test_split(x_data, y_data, test_size=0.2, random_state=0, stratify=y_data)"
   ]
  },
  {
   "cell_type": "code",
   "execution_count": null,
   "id": "814cc169",
   "metadata": {},
   "outputs": [],
   "source": [
    "print(x_train[0])"
   ]
  },
  {
   "cell_type": "code",
   "execution_count": 7,
   "id": "718e7514",
   "metadata": {},
   "outputs": [],
   "source": [
    "tokenizer = Tokenizer(filters = '', lower = False)\n",
    "tokenizer.fit_on_texts(x_train)\n",
    "word_dic = tokenizer.word_index\n",
    "word_count = tokenizer.word_counts\n",
    "sequences = tokenizer.texts_to_sequences(x_train)\n",
    "x_train_encoded = pad_sequences(sequences, maxlen = 16, padding = 'post')\n",
    "vocab_size = len(word_dic) + 1"
   ]
  },
  {
   "cell_type": "code",
   "execution_count": 8,
   "id": "b9d1830e",
   "metadata": {},
   "outputs": [
    {
     "name": "stdout",
     "output_type": "stream",
     "text": [
      "[[ 53  90  12 ...   0   0   0]\n",
      " [ 96  55  12 ...   0   0   0]\n",
      " [105   2  56 ...   0   0   0]\n",
      " ...\n",
      " [  9  85  56 ...   0   0   0]\n",
      " [ 41   6   9 ...   0   0   0]\n",
      " [  6 488  42 ...   0   0   0]]\n"
     ]
    }
   ],
   "source": [
    "print(x_train_encoded)"
   ]
  },
  {
   "cell_type": "code",
   "execution_count": 14,
   "id": "48775e6f",
   "metadata": {
    "scrolled": true
   },
   "outputs": [
    {
     "name": "stdout",
     "output_type": "stream",
     "text": [
      "Epoch 1/30\n",
      "12/12 [==============================] - 3s 56ms/step - loss: 24.1475 - val_loss: 25.5039\n",
      "Epoch 2/30\n",
      "12/12 [==============================] - 0s 8ms/step - loss: 20.8280 - val_loss: 19.2402\n",
      "Epoch 3/30\n",
      "12/12 [==============================] - 0s 8ms/step - loss: 10.7793 - val_loss: 6.4862\n",
      "Epoch 4/30\n",
      "12/12 [==============================] - 0s 8ms/step - loss: 5.1674 - val_loss: 6.3079\n",
      "Epoch 5/30\n",
      "12/12 [==============================] - 0s 9ms/step - loss: 5.3699 - val_loss: 6.1729\n",
      "Epoch 6/30\n",
      "12/12 [==============================] - 0s 8ms/step - loss: 5.0355 - val_loss: 6.1882\n",
      "Epoch 7/30\n",
      "12/12 [==============================] - 0s 8ms/step - loss: 4.8688 - val_loss: 6.1997\n",
      "Epoch 8/30\n",
      "12/12 [==============================] - 0s 7ms/step - loss: 4.4379 - val_loss: 6.1818\n",
      "Epoch 9/30\n",
      "12/12 [==============================] - 0s 6ms/step - loss: 3.4240 - val_loss: 6.1731\n",
      "Epoch 10/30\n",
      "12/12 [==============================] - 0s 7ms/step - loss: 2.2407 - val_loss: 6.0891\n",
      "Epoch 11/30\n",
      "12/12 [==============================] - 0s 7ms/step - loss: 1.3238 - val_loss: 6.1478\n",
      "Epoch 12/30\n",
      "12/12 [==============================] - 0s 7ms/step - loss: 0.9130 - val_loss: 6.4864\n",
      "Epoch 13/30\n",
      "12/12 [==============================] - 0s 9ms/step - loss: 0.6720 - val_loss: 6.7208\n",
      "Epoch 14/30\n",
      "12/12 [==============================] - 0s 9ms/step - loss: 0.5165 - val_loss: 6.4588\n",
      "Epoch 15/30\n",
      "12/12 [==============================] - 0s 9ms/step - loss: 0.3727 - val_loss: 6.4645\n",
      "Epoch 16/30\n",
      "12/12 [==============================] - 0s 8ms/step - loss: 0.2838 - val_loss: 6.4753\n",
      "Epoch 17/30\n",
      "12/12 [==============================] - 0s 7ms/step - loss: 0.2315 - val_loss: 6.3379\n",
      "Epoch 18/30\n",
      "12/12 [==============================] - 0s 7ms/step - loss: 0.2374 - val_loss: 6.7271\n",
      "Epoch 19/30\n",
      "12/12 [==============================] - 0s 7ms/step - loss: 0.1838 - val_loss: 6.3072\n",
      "Epoch 20/30\n",
      "12/12 [==============================] - 0s 6ms/step - loss: 0.1942 - val_loss: 6.6784\n",
      "Epoch 21/30\n",
      "12/12 [==============================] - 0s 6ms/step - loss: 0.1318 - val_loss: 6.4576\n",
      "Epoch 22/30\n",
      "12/12 [==============================] - 0s 6ms/step - loss: 0.1019 - val_loss: 6.4870\n",
      "Epoch 23/30\n",
      "12/12 [==============================] - 0s 6ms/step - loss: 0.1090 - val_loss: 6.4077\n",
      "Epoch 24/30\n",
      "12/12 [==============================] - 0s 7ms/step - loss: 0.0662 - val_loss: 6.4789\n",
      "Epoch 25/30\n",
      "12/12 [==============================] - 0s 9ms/step - loss: 0.0653 - val_loss: 6.4673\n",
      "Epoch 26/30\n",
      "12/12 [==============================] - 0s 9ms/step - loss: 0.0575 - val_loss: 6.3950\n",
      "Epoch 27/30\n",
      "12/12 [==============================] - 0s 9ms/step - loss: 0.0521 - val_loss: 6.4506\n",
      "Epoch 28/30\n",
      "12/12 [==============================] - 0s 9ms/step - loss: 0.0558 - val_loss: 6.2391\n",
      "Epoch 29/30\n",
      "12/12 [==============================] - 0s 8ms/step - loss: 0.0563 - val_loss: 6.3322\n",
      "Epoch 30/30\n",
      "12/12 [==============================] - 0s 7ms/step - loss: 0.0525 - val_loss: 6.1030\n"
     ]
    }
   ],
   "source": [
    "model = Sequential()\n",
    "model.add(Embedding(vocab_size, 32, input_length = 16))\n",
    "model.add(LSTM(32, activation = 'tanh'))\n",
    "model.add(Dense(1))\n",
    "model.compile(loss = 'mse', optimizer = 'adam')\n",
    "history = model.fit(x_train_encoded, y_train, epochs=30, batch_size=5, validation_split=0.2)"
   ]
  },
  {
   "cell_type": "code",
   "execution_count": null,
   "id": "428db4ff",
   "metadata": {},
   "outputs": [],
   "source": []
  }
 ],
 "metadata": {
  "kernelspec": {
   "display_name": "Python 3 (ipykernel)",
   "language": "python",
   "name": "python3"
  },
  "language_info": {
   "codemirror_mode": {
    "name": "ipython",
    "version": 3
   },
   "file_extension": ".py",
   "mimetype": "text/x-python",
   "name": "python",
   "nbconvert_exporter": "python",
   "pygments_lexer": "ipython3",
   "version": "3.8.13"
  }
 },
 "nbformat": 4,
 "nbformat_minor": 5
}
