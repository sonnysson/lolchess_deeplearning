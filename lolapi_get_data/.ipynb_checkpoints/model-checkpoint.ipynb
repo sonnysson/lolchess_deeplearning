{
 "cells": [
  {
   "cell_type": "code",
   "execution_count": 1,
   "id": "9e75d1c2-46ee-4e40-9a58-0eb5ad4433eb",
   "metadata": {},
   "outputs": [
    {
     "ename": "FileNotFoundError",
     "evalue": "[Errno 2] No such file or directory: 'loltochessdata.csv'",
     "output_type": "error",
     "traceback": [
      "\u001b[1;31m---------------------------------------------------------------------------\u001b[0m",
      "\u001b[1;31mFileNotFoundError\u001b[0m                         Traceback (most recent call last)",
      "Input \u001b[1;32mIn [1]\u001b[0m, in \u001b[0;36m<cell line: 1>\u001b[1;34m()\u001b[0m\n\u001b[1;32m----> 1\u001b[0m f \u001b[38;5;241m=\u001b[39m \u001b[38;5;28;43mopen\u001b[39;49m\u001b[43m(\u001b[49m\u001b[38;5;124;43m\"\u001b[39;49m\u001b[38;5;124;43mloltochessdata.csv\u001b[39;49m\u001b[38;5;124;43m\"\u001b[39;49m\u001b[43m,\u001b[49m\u001b[43m \u001b[49m\u001b[38;5;124;43m\"\u001b[39;49m\u001b[38;5;124;43mr\u001b[39;49m\u001b[38;5;124;43m\"\u001b[39;49m\u001b[43m)\u001b[49m\n\u001b[0;32m      2\u001b[0m s \u001b[38;5;241m=\u001b[39m f\u001b[38;5;241m.\u001b[39mread()\n\u001b[0;32m      3\u001b[0m g \u001b[38;5;241m=\u001b[39m s\u001b[38;5;241m.\u001b[39msplit(\u001b[38;5;124m\"\u001b[39m\u001b[38;5;124m<game>\u001b[39m\u001b[38;5;124m\"\u001b[39m)\n",
      "\u001b[1;31mFileNotFoundError\u001b[0m: [Errno 2] No such file or directory: 'loltochessdata.csv'"
     ]
    }
   ],
   "source": [
    "f = open(\"loltochessdata.csv\", \"r\")\n",
    "s = f.read()\n",
    "g = s.split(\"<game>\")\n",
    "h = []\n",
    "for _g in g:\n",
    "    if len(__g := _g.split(\"\\n\")) == 3:\n",
    "        h.append(_g.split(\"\\n\"))\n",
    "for _h in h:\n",
    "    _h[1] = _h[1].split(\"&\")\n",
    "    for i, __h in enumerate(_h[1]):\n",
    "        _h[1][i] = __h.split(\"#\")\n",
    "        if len(_h[1][i]) != 3:\n",
    "            del _h[1][i]\n",
    "        else:\n",
    "            _h[1][i][2] = _h[1][i][2].split(\"/\")\n",
    "            if _h[1][i][2][0] == '':\n",
    "                del _h[1][i][2][0]\n",
    "    _h[2] = _h[2].split(\"/\")\n",
    "f.close()\n",
    "\n",
    "x_data = []\n",
    "y_data = []\n",
    "\n",
    "for _h in h:\n",
    "    input_data = np.zeros(len(s7_champ_list) + len(s7_aug_list))\n",
    "    for __h in _h[1]:\n",
    "        ch = s7_champ_list.index(__h[0])\n",
    "        input_data[ch] = __h[1]\n",
    "    for __h in _h[2]:\n",
    "        try:\n",
    "            ag = s7_chapm_list.index(__h)\n",
    "        except:\n",
    "            ag = 0\n",
    "            pass\n",
    "        input_data[len(s7_champ_list) + ag] = 1\n",
    "    #rank = np.zeros(8)\n",
    "    #rank[int(_h[0]) - 1] = 1\n",
    "    rank = float(_h[0])\n",
    "    x_data.append(input_data)\n",
    "    y_data.append(rank)\n",
    "x_data = pd.DataFrame(x_data)\n",
    "y_data = pd.DataFrame(y_data)\n",
    "x_train, x_test, y_train, y_test = train_test_split(x_data, y_data, test_size = 0.2, random_state = 0)"
   ]
  }
 ],
 "metadata": {
  "kernelspec": {
   "display_name": "Python 3 (ipykernel)",
   "language": "python",
   "name": "python3"
  },
  "language_info": {
   "codemirror_mode": {
    "name": "ipython",
    "version": 3
   },
   "file_extension": ".py",
   "mimetype": "text/x-python",
   "name": "python",
   "nbconvert_exporter": "python",
   "pygments_lexer": "ipython3",
   "version": "3.9.12"
  }
 },
 "nbformat": 4,
 "nbformat_minor": 5
}
