{
 "cells": [
  {
   "cell_type": "code",
   "execution_count": null,
   "id": "ca502ae0-8eaf-47f3-9a0a-a86519c19e60",
   "metadata": {
    "tags": []
   },
   "outputs": [],
   "source": [
    "import requests\n",
    "from tqdm import tqdm\n",
    "from bs4 import BeautifulSoup\n",
    "import pandas as pd\n",
    "import time\n",
    "\n",
    "api_key = 'RGAPI-7de60087-016b-4b70-a155-f955cdcdad6b'\n",
    "\n",
    "request_header = {\n",
    "    \"User-Agent\": \"Mozilla/5.0 (Windows NT 10.0; Win64; x64) AppleWebKit/537.36 (KHTML, like Gecko) Chrome/104.0.0.0 Safari/537.36\",\n",
    "    \"Accept-Language\": \"ko-KR,ko;q=0.9,en-US;q=0.8,en;q=0.7\",\n",
    "    \"Accept-Charset\": \"application/x-www-form-urlencoded; charset=UTF-8\",\n",
    "    \"Origin\": \"https://developer.riotgames.com\"\n",
    "}\n",
    "\n",
    "final_result = []\n",
    "\n",
    "for tier in tqdm(['DIAMOND','PLATINUM','GOLD','SILVER','BRONZE','IRON']):\n",
    "    for rank_level in ['I','II', 'III','IIII'] :\n",
    "        final_result = []\n",
    "        i = 1\n",
    "        while i<=10 :\n",
    "            print(tier,rank_level, i)\n",
    "            url = f\"https://kr.api.riotgames.com/tft/league/v1/entries/{tier}/{rank_level}?page={i}&api_key={api_key}\"\n",
    "            user_data = requests.get(url,headers=request_header).json()\n",
    "            for j in tqdm(user_data):\n",
    "                puuid_url = f\"https://kr.api.riotgames.com/tft/summoner/v1/summoners/{j['summonerId']}?api_key={api_key}\"\n",
    "                puuid = requests.get(puuid_url,headers=request_header).json()\n",
    "                matchid_url =  f\"https://asia.api.riotgames.com/tft/match/v1/matches/by-puuid/{puuid['puuid']}/ids?start=0&count=20&api_key={api_key}\"\n",
    "                matchid =requests.get(matchid_url,headers=request_header).json()\n",
    "                for k in matchid:\n",
    "                    match_url =  f\"https://asia.api.riotgames.com/tft/match/v1/matches/{k}?api_key={api_key}\"\n",
    "                    match_data = requests.get(match_url,headers=request_header).json()\n",
    "                    final_result += match_data\n",
    "                    time.sleep(1)\n",
    "            time.sleep(1)\n",
    "            if len(user_data) == 0:\n",
    "                break\n",
    "            else:\n",
    "                i+=1\n",
    "        df= pd.json_normalize(final_result)\n",
    "        df.to_csv(f'data/battle_data/{tier}_{rank_level}_battle_data_re.csv', index=False, encoding='CP949')"
   ]
  },
  {
   "cell_type": "code",
   "execution_count": null,
   "id": "1b093f1f-2b86-4547-ae8f-d9f10596c75f",
   "metadata": {},
   "outputs": [
    {
     "name": "stdout",
     "output_type": "stream",
     "text": [
      "DIAMOND I 1\n"
     ]
    },
    {
     "name": "stderr",
     "output_type": "stream",
     "text": [
      "  1%|          | 2/205 [00:15<25:24,  7.51s/it]"
     ]
    }
   ],
   "source": [
    "import requests\n",
    "import time\n",
    "\n",
    "api_key = 'RGAPI-7de60087-016b-4b70-a155-f955cdcdad6b'\n",
    "\n",
    "request_header = {\n",
    "    \"User-Agent\": \"Mozilla/5.0 (Windows NT 10.0; Win64; x64) AppleWebKit/537.36 (KHTML, like Gecko) Chrome/104.0.0.0 Safari/537.36\",\n",
    "    \"Accept-Language\": \"ko-KR,ko;q=0.9,en-US;q=0.8,en;q=0.7\",\n",
    "    \"Accept-Charset\": \"application/x-www-form-urlencoded; charset=UTF-8\",\n",
    "    \"Origin\": \"https://developer.riotgames.com\"\n",
    "}\n",
    "\n",
    "final_result = []\n",
    "\n",
    "for tier in ['DIAMOND','PLATINUM','GOLD','SILVER','BRONZE','IRON']:\n",
    "    for rank_level in ['I','II', 'III','IIII'] :\n",
    "        final_result = []\n",
    "        i = 1\n",
    "        while i<=10 :\n",
    "            print(tier,rank_level, i)\n",
    "            url = f\"https://kr.api.riotgames.com/tft/league/v1/entries/{tier}/{rank_level}?page={i}&api_key={api_key}\"\n",
    "            user_data = requests.get(url,headers=request_header).json()\n",
    "            for j in tqdm(user_data):\n",
    "                puuid_url = f\"https://kr.api.riotgames.com/tft/summoner/v1/summoners/{j['summonerId']}?api_key={api_key}\"\n",
    "                puuid = requests.get(puuid_url,headers=request_header).json()\n",
    "                matchid_url =  f\"https://asia.api.riotgames.com/tft/match/v1/matches/by-puuid/{puuid['puuid']}/ids?start=0&count=20&api_key={api_key}\"\n",
    "                matchid =requests.get(matchid_url,headers=request_header).json()\n",
    "                for k in matchid:\n",
    "                    match_url =  f\"https://asia.api.riotgames.com/tft/match/v1/matches/{k}?api_key={api_key}\"\n",
    "                    match_data = requests.get(match_url,headers=request_header).json()\n",
    "                    final_result += match_data\n",
    "            time.sleep(1)\n",
    "            if len(user_data) == 0:\n",
    "                break\n",
    "            else:\n",
    "                i+=1\n",
    "        df= pd.json_normalize(final_result)\n",
    "        df.to_csv(f'data/battle_data/{tier}_{rank_level}_battle_data_re.csv', index=False, encoding='CP949')"
   ]
  },
  {
   "cell_type": "code",
   "execution_count": 97,
   "id": "d413b5d4-389c-4206-8cb6-a9cd9bab31f1",
   "metadata": {},
   "outputs": [
    {
     "data": {
      "text/plain": [
       "['TFT7_Taric',\n",
       " [],\n",
       " 2,\n",
       " 'TFT7_Gnar',\n",
       " ['TFT7_Item_GuardianEmblemItem'],\n",
       " 2,\n",
       " 'TFT7_Ashe',\n",
       " [],\n",
       " 2,\n",
       " 'TFT7_Lulu',\n",
       " ['TFT_Item_StatikkShiv', 'TFT_Item_SeraphsEmbrace'],\n",
       " 3,\n",
       " 'TFT7_Anivia',\n",
       " ['TFT_Item_ArchangelsStaff',\n",
       "  'TFT_Item_Morellonomicon',\n",
       "  'TFT_Item_JeweledGauntlet'],\n",
       " 3,\n",
       " 'TFT7_Neeko',\n",
       " ['TFT_Item_RedBuff', 'TFT_Item_WarmogsArmor', 'TFT_Item_WarmogsArmor'],\n",
       " 2,\n",
       " 'TFT7_DragonGreen',\n",
       " ['TFT_Item_Bloodthirster',\n",
       "  'TFT_Item_MadredsBloodrazor',\n",
       "  'TFT_Item_HextechGunblade'],\n",
       " 2]"
      ]
     },
     "execution_count": 97,
     "metadata": {},
     "output_type": "execute_result"
    }
   ],
   "source": [
    "final_data"
   ]
  },
  {
   "cell_type": "code",
   "execution_count": 86,
   "id": "d04a265e-ef53-419d-a63b-c08c12fb7f8d",
   "metadata": {},
   "outputs": [
    {
     "data": {
      "text/plain": [
       "[]"
      ]
     },
     "execution_count": 86,
     "metadata": {},
     "output_type": "execute_result"
    }
   ],
   "source": []
  }
 ],
 "metadata": {
  "kernelspec": {
   "display_name": "Python 3 (ipykernel)",
   "language": "python",
   "name": "python3"
  },
  "language_info": {
   "codemirror_mode": {
    "name": "ipython",
    "version": 3
   },
   "file_extension": ".py",
   "mimetype": "text/x-python",
   "name": "python",
   "nbconvert_exporter": "python",
   "pygments_lexer": "ipython3",
   "version": "3.9.12"
  }
 },
 "nbformat": 4,
 "nbformat_minor": 5
}
