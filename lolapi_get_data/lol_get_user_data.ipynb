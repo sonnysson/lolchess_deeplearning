{
 "cells": [
  {
   "cell_type": "code",
   "execution_count": 2,
   "id": "3fad4395-3384-41e2-b3f4-2d70d5c0a1c6",
   "metadata": {},
   "outputs": [
    {
     "name": "stderr",
     "output_type": "stream",
     "text": [
      "  0%|          | 0/6 [00:00<?, ?it/s]"
     ]
    },
    {
     "name": "stdout",
     "output_type": "stream",
     "text": [
      "DIAMOND I 1\n",
      "DIAMOND I 2\n",
      "DIAMOND I 3\n",
      "DIAMOND I 4\n",
      "DIAMOND I 5\n",
      "DIAMOND I 6\n",
      "DIAMOND I 7\n",
      "DIAMOND I 8\n",
      "DIAMOND I 9\n",
      "DIAMOND I 10\n",
      "DIAMOND II 1\n",
      "DIAMOND II 2\n",
      "DIAMOND II 3\n",
      "DIAMOND II 4\n",
      "DIAMOND II 5\n",
      "DIAMOND II 6\n",
      "DIAMOND II 7\n",
      "DIAMOND II 8\n",
      "DIAMOND II 9\n",
      "DIAMOND II 10\n",
      "DIAMOND III 1\n",
      "DIAMOND III 2\n",
      "DIAMOND III 3\n",
      "DIAMOND III 4\n"
     ]
    },
    {
     "name": "stderr",
     "output_type": "stream",
     "text": [
      "  0%|          | 0/6 [00:28<?, ?it/s]\n"
     ]
    },
    {
     "ename": "KeyboardInterrupt",
     "evalue": "",
     "output_type": "error",
     "traceback": [
      "\u001b[1;31m---------------------------------------------------------------------------\u001b[0m",
      "\u001b[1;31mKeyboardInterrupt\u001b[0m                         Traceback (most recent call last)",
      "Input \u001b[1;32mIn [2]\u001b[0m, in \u001b[0;36m<cell line: 17>\u001b[1;34m()\u001b[0m\n\u001b[0;32m     24\u001b[0m platinum_user \u001b[38;5;241m=\u001b[39m requests\u001b[38;5;241m.\u001b[39mget(url,headers\u001b[38;5;241m=\u001b[39mrequest_header)\u001b[38;5;241m.\u001b[39mjson()\n\u001b[0;32m     25\u001b[0m final_reulst \u001b[38;5;241m+\u001b[39m\u001b[38;5;241m=\u001b[39m platinum_user\n\u001b[1;32m---> 26\u001b[0m \u001b[43mtime\u001b[49m\u001b[38;5;241;43m.\u001b[39;49m\u001b[43msleep\u001b[49m\u001b[43m(\u001b[49m\u001b[38;5;241;43m1\u001b[39;49m\u001b[43m)\u001b[49m\n\u001b[0;32m     27\u001b[0m \u001b[38;5;28;01mif\u001b[39;00m \u001b[38;5;28mlen\u001b[39m(platinum_user) \u001b[38;5;241m==\u001b[39m \u001b[38;5;241m0\u001b[39m:\n\u001b[0;32m     28\u001b[0m     \u001b[38;5;28;01mbreak\u001b[39;00m\n",
      "\u001b[1;31mKeyboardInterrupt\u001b[0m: "
     ]
    }
   ],
   "source": [
    "import requests\n",
    "from tqdm import tqdm\n",
    "from bs4 import BeautifulSoup\n",
    "import pandas as pd\n",
    "import time\n",
    "\n",
    "\n",
    "api_key = 'RGAPI-1f1be002-4d75-4c20-a36f-4779e5fcd329'\n",
    "\n",
    "request_header = {\n",
    "    \"User-Agent\": \"Mozilla/5.0 (Windows NT 10.0; Win64; x64) AppleWebKit/537.36 (KHTML, like Gecko) Chrome/104.0.0.0 Safari/537.36\",\n",
    "    \"Accept-Language\": \"ko-KR,ko;q=0.9,en-US;q=0.8,en;q=0.7\",\n",
    "    \"Accept-Charset\": \"application/x-www-form-urlencoded; charset=UTF-8\",\n",
    "    \"Origin\": \"https://developer.riotgames.com\"\n",
    "}\n",
    "\n",
    "for tier in tqdm(['DIAMOND','PLATINUM','GOLD','SILVER','BRONZE','IRON']):\n",
    "    for rank_level in ['I','II', 'III','IIII'] :\n",
    "        final_reulst = []\n",
    "        i = 1\n",
    "        while i<=10 :\n",
    "            print(tier,rank_level, i)\n",
    "            url = f\"https://kr.api.riotgames.com/tft/league/v1/entries/{tier}/{rank_level}?page={i}&api_key={api_key}\"\n",
    "            platinum_user = requests.get(url,headers=request_header).json()\n",
    "            final_reulst += platinum_user\n",
    "            time.sleep(1)\n",
    "            if len(platinum_user) == 0:\n",
    "                break\n",
    "            else:\n",
    "                i+=1\n",
    "        df= pd.json_normalize(final_reulst)\n",
    "        df.to_csv(f'data/user_name/{tier}_{rank_level}_user.csv', index=False, encoding='CP949')"
   ]
  },
  {
   "cell_type": "code",
   "execution_count": 44,
   "id": "ea3655ec-c401-4537-88aa-5e4539cd9339",
   "metadata": {},
   "outputs": [
    {
     "ename": "KeyError",
     "evalue": "('summonerName', 'summonerId')",
     "output_type": "error",
     "traceback": [
      "\u001b[1;31m---------------------------------------------------------------------------\u001b[0m",
      "\u001b[1;31mKeyError\u001b[0m                                  Traceback (most recent call last)",
      "Input \u001b[1;32mIn [44]\u001b[0m, in \u001b[0;36m<cell line: 1>\u001b[1;34m()\u001b[0m\n\u001b[1;32m----> 1\u001b[0m \u001b[43mplatinum_user\u001b[49m\u001b[43m[\u001b[49m\u001b[38;5;241;43m2\u001b[39;49m\u001b[43m]\u001b[49m\u001b[43m[\u001b[49m\u001b[43m(\u001b[49m\u001b[38;5;124;43m'\u001b[39;49m\u001b[38;5;124;43msummonerName\u001b[39;49m\u001b[38;5;124;43m'\u001b[39;49m\u001b[43m,\u001b[49m\u001b[38;5;124;43m'\u001b[39;49m\u001b[38;5;124;43msummonerId\u001b[39;49m\u001b[38;5;124;43m'\u001b[39;49m\u001b[43m)\u001b[49m\u001b[43m]\u001b[49m\n",
      "\u001b[1;31mKeyError\u001b[0m: ('summonerName', 'summonerId')"
     ]
    }
   ],
   "source": [
    "platinum_user[2]['summonerName','summonerId']"
   ]
  },
  {
   "cell_type": "code",
   "execution_count": null,
   "id": "7a733e1c-2506-4fee-bdab-18658228c7b2",
   "metadata": {},
   "outputs": [],
   "source": []
  }
 ],
 "metadata": {
  "kernelspec": {
   "display_name": "Python 3 (ipykernel)",
   "language": "python",
   "name": "python3"
  },
  "language_info": {
   "codemirror_mode": {
    "name": "ipython",
    "version": 3
   },
   "file_extension": ".py",
   "mimetype": "text/x-python",
   "name": "python",
   "nbconvert_exporter": "python",
   "pygments_lexer": "ipython3",
   "version": "3.9.12"
  }
 },
 "nbformat": 4,
 "nbformat_minor": 5
}
